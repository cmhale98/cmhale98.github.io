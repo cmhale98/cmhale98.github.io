{
  "cells": [
    {
      "cell_type": "raw",
      "metadata": {},
      "source": [
        "---\n",
        "title: \"Conner Hale\"\n",
        "format: html\n",
        "editor: visual\n",
        "---"
      ],
      "id": "b1898f44"
    },
    {
      "cell_type": "markdown",
      "metadata": {},
      "source": [
        "This is a Quarto website.\n",
        "\n",
        "To learn more about Quarto websites visit <https://quarto.org/docs/websites>.\n",
        "\n",
        "\n",
        "```{slay}\n",
        "```"
      ],
      "id": "f400251d"
    }
  ],
  "metadata": {
    "kernelspec": {
      "display_name": "Python 3",
      "language": "python",
      "name": "python3"
    }
  },
  "nbformat": 4,
  "nbformat_minor": 5
}